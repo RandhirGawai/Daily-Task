{
  "nbformat": 4,
  "nbformat_minor": 0,
  "metadata": {
    "colab": {
      "provenance": [],
      "collapsed_sections": []
    },
    "kernelspec": {
      "name": "python3",
      "display_name": "Python 3"
    },
    "language_info": {
      "name": "python"
    }
  },
  "cells": [
    {
      "cell_type": "code",
      "execution_count": 3,
      "metadata": {
        "colab": {
          "base_uri": "https://localhost:8080/"
        },
        "id": "PYHnrvFooG6d",
        "outputId": "ed2f0aa9-7c8d-4742-e645-d51a4b63acca"
      },
      "outputs": [
        {
          "output_type": "stream",
          "name": "stdout",
          "text": [
            "Duplicate number in the array:\n",
            "2\n",
            "4\n",
            "11\n"
          ]
        }
      ],
      "source": [
        "l1=[1,2,3,4,5,6,7,8,2,4,9,10,11,13,12,11,20,21,22]\n",
        "print(\"Duplicate number in the array:\")\n",
        "for i in range(len(l1)):\n",
        "  for j in range(i+1,len(l1)):\n",
        "    if(l1[i]==l1[j]):\n",
        "      print(l1[j])\n"
      ]
    }
  ]
}