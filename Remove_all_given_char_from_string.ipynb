{
  "nbformat": 4,
  "nbformat_minor": 0,
  "metadata": {
    "colab": {
      "provenance": [],
      "collapsed_sections": []
    },
    "kernelspec": {
      "name": "python3",
      "display_name": "Python 3"
    },
    "language_info": {
      "name": "python"
    }
  },
  "cells": [
    {
      "cell_type": "code",
      "execution_count": null,
      "metadata": {
        "colab": {
          "base_uri": "https://localhost:8080/"
        },
        "id": "mWrk6JwVD2f_",
        "outputId": "927e0053-891a-4ca9-ac0e-d7ee0b88cd70"
      },
      "outputs": [
        {
          "output_type": "stream",
          "name": "stdout",
          "text": [
            "Enter the string:randhir\n",
            "Enter char which you want to remove:r\n",
            "String after romoving the char: andhi\n"
          ]
        }
      ],
      "source": [
        "str1=input(\"Enter the string:\")\n",
        "str2=input(\"Enter char which you want to remove:\")\n",
        "str3=\"\"\n",
        "i=0\n",
        "for i in str1:\n",
        "  if(i!=str2):\n",
        "    str3+=i\n",
        "\n",
        "\n",
        "print(\"String after removing the char:\",str3)"
      ]
    }
  ]
}