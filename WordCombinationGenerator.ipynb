{
  "nbformat": 4,
  "nbformat_minor": 0,
  "metadata": {
    "colab": {
      "provenance": []
    },
    "kernelspec": {
      "name": "python3",
      "display_name": "Python 3"
    },
    "language_info": {
      "name": "python"
    }
  },
  "cells": [
    {
      "cell_type": "code",
      "execution_count": 6,
      "metadata": {
        "colab": {
          "base_uri": "https://localhost:8080/"
        },
        "id": "6OgFAs0N-FD5",
        "outputId": "3960313d-9082-45c8-d025-ed9a91ef4cb4"
      },
      "outputs": [
        {
          "output_type": "stream",
          "name": "stdout",
          "text": [
            "Enter a word:abc\n",
            "Combination are:\n",
            " abc acb bac bca cab cba"
          ]
        }
      ],
      "source": [
        "def combination(str,blank):\n",
        "    if(len(str)==0):\n",
        "        print(blank,end='')\n",
        "        return\n",
        "    for i in range(len(str)):\n",
        "        ch=str[i]\n",
        "        ls=str[0:i]\n",
        "        rs=str[i+1:]\n",
        "        newStr=ls+rs\n",
        "        combination(newStr, blank+ch)\n",
        "\n",
        "str=input(\"Enter a word:\")\n",
        "blank=\" \"\n",
        "print(\"Combination are:\")\n",
        "combination(str, blank)"
      ]
    }
  ]
}