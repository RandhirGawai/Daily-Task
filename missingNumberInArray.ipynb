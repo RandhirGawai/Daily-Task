{
  "nbformat": 4,
  "nbformat_minor": 0,
  "metadata": {
    "colab": {
      "provenance": []
    },
    "kernelspec": {
      "name": "python3",
      "display_name": "Python 3"
    },
    "language_info": {
      "name": "python"
    }
  },
  "cells": [
    {
      "cell_type": "code",
      "execution_count": 19,
      "metadata": {
        "colab": {
          "base_uri": "https://localhost:8080/"
        },
        "id": "jEXmk1_7fPDy",
        "outputId": "dd6bcfcc-f2c6-4541-dbee-d1bb701054b7"
      },
      "outputs": [
        {
          "output_type": "stream",
          "name": "stdout",
          "text": [
            "Missing number is: 6.0\n"
          ]
        }
      ],
      "source": [
        "def missingNum(l1):\n",
        "  n=len(l1)\n",
        "  m=n+1\n",
        "  s=0\n",
        "  sumtotal=m*(m+1)/2\n",
        "  for i in range(len(l1)):\n",
        "    s=s+l1[i]\n",
        "  missnum=sumtotal-s\n",
        "  \n",
        "  print(\"Missing number is:\",missnum)\n",
        "\n",
        "n1=[1,2,5,4,9,8,7,3,10]\n",
        "n=len(n1)\n",
        "\n",
        "missingNum(n1)"
      ]
    }
  ]
}